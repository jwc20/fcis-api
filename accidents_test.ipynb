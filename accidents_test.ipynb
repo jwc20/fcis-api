{
 "cells": [
  {
   "cell_type": "code",
   "execution_count": 13,
   "id": "7dfcc3aa",
   "metadata": {},
   "outputs": [],
   "source": [
    "from fcis.core import * \n",
    "from fcis.accidents import Accidents"
   ]
  },
  {
   "cell_type": "code",
   "execution_count": 14,
   "id": "543fac32",
   "metadata": {},
   "outputs": [],
   "source": [
    "word1 = 'cat'\n",
    "test = Accidents()._get_keywords(word1[0])\n",
    "# print(test)"
   ]
  },
  {
   "cell_type": "code",
   "execution_count": 1,
   "id": "6259294e",
   "metadata": {},
   "outputs": [],
   "source": [
    "# https://www.osha.gov/pls/imis/AccidentSearch.search\n",
    "# ?p_logger=1\n",
    "# &acc_description=boat+Employee\n",
    "# &acc_Abstract=boat+Employee\n",
    "# &acc_keyword=water+drown+boat\n",
    "# &sic=\n",
    "# &naics=\n",
    "# &Office=All\n",
    "# &officetype=All\n",
    "# &endmonth=06\n",
    "# &endday=18\n",
    "# &endyear=2002\n",
    "# &startmonth=06\n",
    "# &startday=18\n",
    "# &startyear=2023\n",
    "# &InspNr="
   ]
  },
  {
   "cell_type": "code",
   "execution_count": 1,
   "id": "e276b453",
   "metadata": {},
   "outputs": [],
   "source": [
    "# Accidents Examples\n",
    "import fcis\n",
    "desc1= [\"boat\", \"Employee\"]\n",
    "abs1=  [\"boat\", \"Employee\"]\n",
    "keys1 = [\"water\", \"drown\", \"boat\"]\n",
    "client = fcis.FCIS(descriptions=desc1, abstracts=abs1, keywords=keys1)\n",
    "\n",
    "# test\n",
    "# print(client._get_validated_keywords(keys1))\n",
    "# print(client._load_accidents_search_page())"
   ]
  },
  {
   "cell_type": "code",
   "execution_count": 2,
   "id": "b226492c",
   "metadata": {},
   "outputs": [
    {
     "name": "stdout",
     "output_type": "stream",
     "text": [
      "<tr>\n",
      "<td><input name=\"id\" type=\"checkbox\" value=\"122429.015\"/></td>\n",
      "<td>1</td>\n",
      "<td><a href=\"accidentsearch.accident_detail?id=122429.015\" title=\"122429.01\">122429.01</a></td>\n",
      "<td>11/30/2019</td>\n",
      "<td>0625700</td>\n",
      "<td>X</td>\n",
      "<td><a href=\"sic_manual.display?id=&amp;tab=description\"></a></td>\n",
      "<td>Employee Drowns When Trying To Retrieve Crew Boat That Came</td>\n",
      "</tr>\n"
     ]
    },
    {
     "ename": "AttributeError",
     "evalue": "'NoneType' object has no attribute 'text'",
     "output_type": "error",
     "traceback": [
      "\u001b[0;31m---------------------------------------------------------------------------\u001b[0m",
      "\u001b[0;31mAttributeError\u001b[0m                            Traceback (most recent call last)",
      "Input \u001b[0;32mIn [2]\u001b[0m, in \u001b[0;36m<cell line: 2>\u001b[0;34m()\u001b[0m\n\u001b[1;32m      1\u001b[0m page \u001b[38;5;241m=\u001b[39m client\u001b[38;5;241m.\u001b[39m_load_accidents_search_page()\n\u001b[0;32m----> 2\u001b[0m \u001b[43mclient\u001b[49m\u001b[38;5;241;43m.\u001b[39;49m\u001b[43m_extract_accidents_search_results\u001b[49m\u001b[43m(\u001b[49m\u001b[43mpage\u001b[49m\u001b[43m)\u001b[49m\n",
      "File \u001b[0;32m~/Development/code/fun/fcis-api/fcis/accidents.py:112\u001b[0m, in \u001b[0;36mAccidents._extract_accidents_search_results\u001b[0;34m(self, soup_data)\u001b[0m\n\u001b[1;32m    109\u001b[0m     \u001b[38;5;28mprint\u001b[39m(tr)\n\u001b[1;32m    110\u001b[0m     \u001b[38;5;66;03m# table_data = tr.find_all(\"td\")\u001b[39;00m\n\u001b[1;32m    111\u001b[0m     \u001b[38;5;66;03m# for td in Vtable_data:\u001b[39;00m\n\u001b[0;32m--> 112\u001b[0m     data[\u001b[38;5;124m\"\u001b[39m\u001b[38;5;124maccident_id\u001b[39m\u001b[38;5;124m\"\u001b[39m] \u001b[38;5;241m=\u001b[39m \u001b[43mtr\u001b[49m\u001b[38;5;241;43m.\u001b[39;49m\u001b[43mfind\u001b[49m\u001b[43m(\u001b[49m\u001b[38;5;124;43m\"\u001b[39;49m\u001b[38;5;124;43mtd\u001b[39;49m\u001b[38;5;124;43m\"\u001b[39;49m\u001b[43m,\u001b[49m\u001b[43m \u001b[49m\u001b[43m{\u001b[49m\u001b[38;5;124;43m\"\u001b[39;49m\u001b[38;5;124;43mvalue\u001b[39;49m\u001b[38;5;124;43m\"\u001b[39;49m\u001b[43m}\u001b[49m\u001b[43m)\u001b[49m\u001b[38;5;241;43m.\u001b[39;49m\u001b[43mtext\u001b[49m \n\u001b[1;32m    113\u001b[0m     data[\u001b[38;5;124m\"\u001b[39m\u001b[38;5;124msummary_url\u001b[39m\u001b[38;5;124m\"\u001b[39m] \u001b[38;5;241m=\u001b[39m tr\u001b[38;5;241m.\u001b[39mfind(\u001b[38;5;124m\"\u001b[39m\u001b[38;5;124mtd\u001b[39m\u001b[38;5;124m\"\u001b[39m, {})\n\u001b[1;32m    116\u001b[0m \u001b[38;5;28;01mreturn\u001b[39;00m data\n",
      "\u001b[0;31mAttributeError\u001b[0m: 'NoneType' object has no attribute 'text'"
     ]
    }
   ],
   "source": [
    "page = client._load_accidents_search_page()\n",
    "client._extract_accidents_search_results(page)"
   ]
  },
  {
   "cell_type": "code",
   "execution_count": null,
   "id": "faa609df",
   "metadata": {},
   "outputs": [],
   "source": []
  },
  {
   "cell_type": "code",
   "execution_count": null,
   "id": "0c4a9e85",
   "metadata": {},
   "outputs": [],
   "source": []
  },
  {
   "cell_type": "code",
   "execution_count": null,
   "id": "c979be4d",
   "metadata": {},
   "outputs": [],
   "source": [
    "# https://www.osha.gov/pls/imis/accidentsearch.html\n",
    "# ?p_message=2\n",
    "# &acc_description=TRUCK%20stop%20car\n",
    "# &acc_abstract=\n",
    "# &acc_keyword=\n",
    "# &sic=\n",
    "# &naics=\n",
    "# &officetype=All\n",
    "# &office=All\n",
    "# &startmonth=06\n",
    "# &startday=18\n",
    "# &startyear=2023\n",
    "# &endmonth=06\n",
    "# &endday=18\n",
    "# &endyear=2002\n",
    "# &inspnr="
   ]
  },
  {
   "cell_type": "code",
   "execution_count": null,
   "id": "58245c29",
   "metadata": {},
   "outputs": [],
   "source": [
    "# https://www.osha.gov/pls/imis/AccidentSearch.search\n",
    "# ?p_logger=1\n",
    "# &acc_description=tank+explosion+gas\n",
    "# &acc_Abstract=\n",
    "# &acc_keyword=gas+explosion\n",
    "# &sic=\n",
    "# &naics=\n",
    "# &Office=All\n",
    "# &officetype=All\n",
    "# &endmonth=06\n",
    "# &endday=18\n",
    "# &endyear=2002\n",
    "# &startmonth=06\n",
    "# &startday=18\n",
    "# &startyear=2023\n",
    "# &InspNr="
   ]
  }
 ],
 "metadata": {
  "kernelspec": {
   "display_name": "venv",
   "language": "python",
   "name": "venv"
  },
  "language_info": {
   "codemirror_mode": {
    "name": "ipython",
    "version": 3
   },
   "file_extension": ".py",
   "mimetype": "text/x-python",
   "name": "python",
   "nbconvert_exporter": "python",
   "pygments_lexer": "ipython3",
   "version": "3.9.13"
  }
 },
 "nbformat": 4,
 "nbformat_minor": 5
}
