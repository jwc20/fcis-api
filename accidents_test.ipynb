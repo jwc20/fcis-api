{
 "cells": [
  {
   "cell_type": "code",
   "execution_count": null,
   "id": "7dfcc3aa",
   "metadata": {},
   "outputs": [],
   "source": [
    "from fcis.core import * \n",
    "from fcis.accidents import Accidents"
   ]
  },
  {
   "cell_type": "code",
   "execution_count": null,
   "id": "6259294e",
   "metadata": {},
   "outputs": [],
   "source": [
    "# https://www.osha.gov/pls/imis/AccidentSearch.search\n",
    "# ?p_logger=1\n",
    "# &acc_description=boat+Employee\n",
    "# &acc_Abstract=boat+Employee\n",
    "# &acc_keyword=water+drown+boat\n",
    "# &sic=\n",
    "# &naics=\n",
    "# &Office=All\n",
    "# &officetype=All\n",
    "# &endmonth=06\n",
    "# &endday=18\n",
    "# &endyear=2002\n",
    "# &startmonth=06\n",
    "# &startday=18\n",
    "# &startyear=2023\n",
    "# &InspNr="
   ]
  },
  {
   "cell_type": "code",
   "execution_count": null,
   "id": "e276b453",
   "metadata": {
    "scrolled": true
   },
   "outputs": [],
   "source": [
    "# Accidents Examples\n",
    "import fcis\n",
    "desc1= [\"boat\", \"Employee\"]\n",
    "abs1=  [\"boat\", \"Employee\"]\n",
    "keys1 = [\"water\", \"drown\", \"boat\"]\n",
    "client = fcis.FCIS(descriptions=desc1, abstracts=abs1, keywords=keys1)\n",
    "# test\n",
    "# print(client._get_validated_keywords(keys1))\n",
    "# print(client._load_accidents_search_page())\n",
    "\n",
    "page = client._load_accidents_search_page()\n",
    "client._scrape_accidents_search_results(page)\n"
   ]
  },
  {
   "cell_type": "code",
   "execution_count": null,
   "id": "faa609df",
   "metadata": {
    "scrolled": true
   },
   "outputs": [],
   "source": [
    "# Accidents Examples\n",
    "import fcis\n",
    "import pprint\n",
    "desc1= []\n",
    "keys1 = ['\"Quench Tank\"']\n",
    "# keys1 = ['Quench Tank']\n",
    "client = fcis.FCIS(descriptions=desc1, keywords=keys1)\n",
    "page = client._load_accidents_search_page()\n",
    "# page = client._load_accidents_search_page(p_finish=30)\n",
    "client._scrape_accidents_search_results(page)"
   ]
  },
  {
   "cell_type": "code",
   "execution_count": null,
   "id": "0c4a9e85",
   "metadata": {},
   "outputs": [],
   "source": [
    "\n",
    "\n",
    "# Accidents Examples\n",
    "import fcis\n",
    "import pprint\n",
    "desc1= []\n",
    "keys1 = [\"Quench Tank\"]\n",
    "client = fcis.FCIS(descriptions=desc1, keywords=keys1)\n",
    "page = client._load_accidents_search_page()\n",
    "client._scrape_accidents_search_results(page)\n",
    "\n"
   ]
  },
  {
   "cell_type": "code",
   "execution_count": null,
   "id": "c979be4d",
   "metadata": {},
   "outputs": [],
   "source": []
  },
  {
   "cell_type": "code",
   "execution_count": null,
   "id": "58245c29",
   "metadata": {},
   "outputs": [],
   "source": []
  },
  {
   "cell_type": "code",
   "execution_count": 1,
   "id": "f12114e5",
   "metadata": {},
   "outputs": [
    {
     "data": {
      "text/plain": [
       "{'accident_number': '570341',\n",
       " 'report_id': '0522300',\n",
       " 'event_date': '08/15/1984',\n",
       " 'inspection_url': 'establishment.inspection_detail?id=1667450',\n",
       " 'inspection_number': '1667450',\n",
       " 'open_date': '08/16/1984',\n",
       " 'sic_number': '4741',\n",
       " 'establishment_name': 'Mobile Tank Car Services',\n",
       " 'detail_description': 'THREE EMPLOYEES WERE CLEANING A RAILROAD TANK CAR CONTAINING RESIDUES OF COAL TAR LIGHT OIL, A FLAMMABLE LIQUID. ONE WAS ON TOP OF THE CAR, THE OTHER TWO WERE INSIDE. THEY WERE USING STEEL SHOVELS AND A NON EXPLOSION-PROOF LIGHT INSIDE THE CAR. THE VAPORS IGNITED, KILLING THE TWO EMPLOYEES INSIDE AND BURNING THE ONE ON TOP. THE OTHER EMPLOYEES WERE INJURED IN THE RESCUE ATTEMPT.',\n",
       " 'keywords': ['burn',\n",
       "  ' coal tar light oil',\n",
       "  ' flammable vapors',\n",
       "  ' railroad tank car',\n",
       "  ' cleaning',\n",
       "  ' explosion'],\n",
       " 'Employee': [{'Employee #': '1',\n",
       "   'Inspection': '1667450',\n",
       "   'Age': '',\n",
       "   'Sex': '',\n",
       "   'Degree': 'Fatality',\n",
       "   'Nature': 'Asphyxia',\n",
       "   'Occupation': 'Occupation not reported',\n",
       "   '': ''},\n",
       "  {'Employee #': '2',\n",
       "   'Inspection': '1667450',\n",
       "   'Age': '',\n",
       "   'Sex': '',\n",
       "   'Degree': 'Fatality',\n",
       "   'Nature': 'Asphyxia',\n",
       "   'Occupation': 'Occupation not reported',\n",
       "   '': ''},\n",
       "  {'Employee #': '3',\n",
       "   'Inspection': '1667450',\n",
       "   'Age': '',\n",
       "   'Sex': '',\n",
       "   'Degree': 'Hospitalized injury',\n",
       "   'Nature': 'Other',\n",
       "   'Occupation': 'Occupation not reported',\n",
       "   '': ''},\n",
       "  {'Employee #': '4',\n",
       "   'Inspection': '1667450',\n",
       "   'Age': '',\n",
       "   'Sex': '',\n",
       "   'Degree': 'Hospitalized injury',\n",
       "   'Nature': 'Other',\n",
       "   'Occupation': 'Occupation not reported',\n",
       "   '': ''},\n",
       "  {'Employee #': '5',\n",
       "   'Inspection': '1667450',\n",
       "   'Age': '',\n",
       "   'Sex': '',\n",
       "   'Degree': 'Hospitalized injury',\n",
       "   'Nature': 'Other',\n",
       "   'Occupation': 'Occupation not reported',\n",
       "   '': ''},\n",
       "  {'Employee #': '6',\n",
       "   'Inspection': '1667450',\n",
       "   'Age': '',\n",
       "   'Sex': '',\n",
       "   'Degree': 'Hospitalized injury',\n",
       "   'Nature': 'Other',\n",
       "   'Occupation': 'Occupation not reported',\n",
       "   '': ''}]}"
      ]
     },
     "execution_count": 1,
     "metadata": {},
     "output_type": "execute_result"
    }
   ],
   "source": [
    "# Accidents Examples\n",
    "import fcis\n",
    "import pprint\n",
    "keys1=[]\n",
    "desc1=[]\n",
    "abst = []\n",
    "client = fcis.FCIS(descriptions=desc1, keywords=keys1)\n",
    "# print(client._make_accident_details_url(ids=[\"570341\", \"116803.015\"]))\n",
    "soup_data = client._load_accident_details_page(ids=[\"570341\", \"116803.015\", \"171061435\"])\n",
    "# soup_data = client._load_accident_details_page(ids=[\"116803.015\"])\n",
    "# soup_data = client._load_accident_details_page(ids=[\"570341\"])\n",
    "# soup_data = client._load_accident_details_page(ids=[\"171061435\"])\n",
    "\n",
    "client._scrape_accident_details(soup_data)"
   ]
  },
  {
   "cell_type": "code",
   "execution_count": 1,
   "id": "21ffd2d0",
   "metadata": {},
   "outputs": [
    {
     "data": {
      "text/plain": [
       "{'accident_number': '171061435',\n",
       " 'report_id': '0854910',\n",
       " 'event_date': '09/19/2001',\n",
       " 'inspection_url': 'establishment.inspection_detail?id=304411838',\n",
       " 'inspection_number': '304411838',\n",
       " 'open_date': '09/20/2001',\n",
       " 'sic_number': '1794',\n",
       " 'establishment_name': 'Giles & Mcfarland Excavating',\n",
       " 'detail_description': \"On September 19, 2001, Employee #1 was rolling/compacting backfill to join two roads together that were under construction. Employee #1 was rolling/compacting the west edge of the roadway when the vehicle's front left tire went off the embankment causing the compactor to roll down the embankment. Employee #1 was crushed and killed.\",\n",
       " 'keywords': ['embankment',\n",
       "  ' roller--const equip',\n",
       "  ' roll-over',\n",
       "  ' rops',\n",
       "  ' crushed'],\n",
       " 'Employee': [{'Employee #': '1',\n",
       "   'Inspection': '304411838',\n",
       "   'Age': '',\n",
       "   'Sex': '',\n",
       "   'Degree': 'Fatality',\n",
       "   'Nature': 'Other'}]}"
      ]
     },
     "execution_count": 1,
     "metadata": {},
     "output_type": "execute_result"
    }
   ],
   "source": [
    "# Accidents Examples\n",
    "import fcis\n",
    "import pprint\n",
    "keys1=[]\n",
    "desc1=[]\n",
    "abst = []\n",
    "client = fcis.FCIS(descriptions=desc1, keywords=keys1)\n",
    "# print(client._make_accident_details_url(ids=[\"570341\", \"116803.015\"]))\n",
    "# soup_data = client._load_accident_details_page(ids=[\"570341\", \"116803.015\", \"171061435\"])\n",
    "# soup_data = client._load_accident_details_page(ids=[\"116803.015\"])\n",
    "# soup_data = client._load_accident_details_page(ids=[\"570341\"])\n",
    "soup_data = client._load_accident_details_page(ids=[\"171061435\"])\n",
    "\n",
    "client._scrape_accident_details(soup_data)\n"
   ]
  },
  {
   "cell_type": "code",
   "execution_count": null,
   "id": "9cb9b749",
   "metadata": {},
   "outputs": [],
   "source": []
  }
 ],
 "metadata": {
  "kernelspec": {
   "display_name": "venv",
   "language": "python",
   "name": "venv"
  },
  "language_info": {
   "codemirror_mode": {
    "name": "ipython",
    "version": 3
   },
   "file_extension": ".py",
   "mimetype": "text/x-python",
   "name": "python",
   "nbconvert_exporter": "python",
   "pygments_lexer": "ipython3",
   "version": "3.9.13"
  },
  "vscode": {
   "interpreter": {
    "hash": "916dbcbb3f70747c44a77c7bcd40155683ae19c65e1c03b4aa3499c5328201f1"
   }
  }
 },
 "nbformat": 4,
 "nbformat_minor": 5
}
