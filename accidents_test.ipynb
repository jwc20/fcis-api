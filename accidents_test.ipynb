{
 "cells": [
  {
   "cell_type": "code",
   "execution_count": 3,
   "id": "7dfcc3aa",
   "metadata": {},
   "outputs": [],
   "source": [
    "from fcis.core import * \n",
    "from fcis.accidents import Accidents"
   ]
  },
  {
   "cell_type": "code",
   "execution_count": 4,
   "id": "6259294e",
   "metadata": {},
   "outputs": [],
   "source": [
    "# https://www.osha.gov/pls/imis/AccidentSearch.search\n",
    "# ?p_logger=1\n",
    "# &acc_description=boat+Employee\n",
    "# &acc_Abstract=boat+Employee\n",
    "# &acc_keyword=water+drown+boat\n",
    "# &sic=\n",
    "# &naics=\n",
    "# &Office=All\n",
    "# &officetype=All\n",
    "# &endmonth=06\n",
    "# &endday=18\n",
    "# &endyear=2002\n",
    "# &startmonth=06\n",
    "# &startday=18\n",
    "# &startyear=2023\n",
    "# &InspNr="
   ]
  },
  {
   "cell_type": "code",
   "execution_count": 6,
   "id": "e276b453",
   "metadata": {
    "scrolled": true
   },
   "outputs": [
    {
     "name": "stdout",
     "output_type": "stream",
     "text": [
      "https://www.osha.gov/pls/imis/AccidentSearch.search?acc_description=boat+Employee&acc_Abstract=boat+Employee&acc_keyword=water+drown+boat\n"
     ]
    },
    {
     "data": {
      "text/plain": [
       "[{'accident_id': '122429.015',\n",
       "  'summary_url': 'https://www.osha.gov/pls/imis/accidentsearch.accident_detail?id=122429.015',\n",
       "  'summary_nr': '122429.01',\n",
       "  'event_date': '11/30/2019',\n",
       "  'report_id': '0625700',\n",
       "  'fatality': None,\n",
       "  'sic_url': None,\n",
       "  'sic_num': None,\n",
       "  'event_description': 'Employee Drowns When Trying To Retrieve Crew Boat That Came',\n",
       "  'fatility': 'X'},\n",
       " {'accident_id': '118552.015',\n",
       "  'summary_url': 'https://www.osha.gov/pls/imis/accidentsearch.accident_detail?id=118552.015',\n",
       "  'summary_nr': '118552.01',\n",
       "  'event_date': '07/31/2019',\n",
       "  'report_id': '0418400',\n",
       "  'fatality': None,\n",
       "  'sic_url': None,\n",
       "  'sic_num': None,\n",
       "  'event_description': 'Employee Drowns After Jon Boat Capsizes',\n",
       "  'fatility': 'X'}]"
      ]
     },
     "execution_count": 6,
     "metadata": {},
     "output_type": "execute_result"
    }
   ],
   "source": [
    "# Accidents Examples\n",
    "import fcis\n",
    "desc1= [\"boat\", \"Employee\"]\n",
    "abs1=  [\"boat\", \"Employee\"]\n",
    "keys1 = [\"water\", \"drown\", \"boat\"]\n",
    "client = fcis.FCIS(descriptions=desc1, abstracts=abs1, keywords=keys1)\n",
    "# test\n",
    "# print(client._get_validated_keywords(keys1))\n",
    "# print(client._load_accidents_search_page())\n",
    "\n",
    "page = client._load_accidents_search_page()\n",
    "client._scrape_accidents_search_results(page)\n"
   ]
  },
  {
   "cell_type": "code",
   "execution_count": 1,
   "id": "faa609df",
   "metadata": {
    "scrolled": true
   },
   "outputs": [
    {
     "name": "stdout",
     "output_type": "stream",
     "text": [
      "https://www.osha.gov/pls/imis/AccidentSearch.search?keyword_list=on&acc_keyword=%22Quench+Tank%22\n"
     ]
    },
    {
     "data": {
      "text/plain": [
       "[{'accident_id': '113912.015',\n",
       "  'summary_url': 'https://www.osha.gov/pls/imis/accidentsearch.accident_detail?id=113912.015',\n",
       "  'summary_nr': '113912.01',\n",
       "  'event_date': '02/13/2019',\n",
       "  'report_id': '0522000',\n",
       "  'fatality': None,\n",
       "  'sic_url': None,\n",
       "  'sic_number': None,\n",
       "  'event_description': 'Employee Suffers Third Degree Burns After Quenching Of Alumi',\n",
       "  'fatility': '\\xa0'},\n",
       " {'accident_id': '57989.015',\n",
       "  'summary_url': 'https://www.osha.gov/pls/imis/accidentsearch.accident_detail?id=57989.015',\n",
       "  'summary_nr': '57989.015',\n",
       "  'event_date': '02/14/2014',\n",
       "  'report_id': '0317500',\n",
       "  'fatality': None,\n",
       "  'sic_url': None,\n",
       "  'sic_number': None,\n",
       "  'event_description': 'Employee Is Burned And Killed',\n",
       "  'fatility': 'X'},\n",
       " {'accident_id': '201857752',\n",
       "  'summary_url': 'https://www.osha.gov/pls/imis/accidentsearch.accident_detail?id=201857752',\n",
       "  'summary_nr': '201857752',\n",
       "  'event_date': '07/05/2005',\n",
       "  'report_id': '0452110',\n",
       "  'fatality': None,\n",
       "  'sic_url': 'https://www.osha.gov/sic-manual/3341',\n",
       "  'sic_number': '3341',\n",
       "  'event_description': 'Employee Is Asphyxiated After Aspirating Lime Slurry',\n",
       "  'fatility': 'X'},\n",
       " {'accident_id': '200969178',\n",
       "  'summary_url': 'https://www.osha.gov/pls/imis/accidentsearch.accident_detail?id=200969178',\n",
       "  'summary_nr': '200969178',\n",
       "  'event_date': '07/22/2000',\n",
       "  'report_id': '0352440',\n",
       "  'fatality': None,\n",
       "  'sic_url': 'https://www.osha.gov/sic-manual/4953',\n",
       "  'sic_number': '4953',\n",
       "  'event_description': 'Employee Killed In Quench Tank Drive',\n",
       "  'fatility': 'X'},\n",
       " {'accident_id': '201360336',\n",
       "  'summary_url': 'https://www.osha.gov/pls/imis/accidentsearch.accident_detail?id=201360336',\n",
       "  'summary_nr': '201360336',\n",
       "  'event_date': '06/26/1997',\n",
       "  'report_id': '0419400',\n",
       "  'fatality': None,\n",
       "  'sic_url': 'https://www.osha.gov/sic-manual/3479',\n",
       "  'sic_number': '3479',\n",
       "  'event_description': 'Employee Injured In Fall Into Open Quench Tank',\n",
       "  'fatility': '\\xa0'},\n",
       " {'accident_id': '14316889',\n",
       "  'summary_url': 'https://www.osha.gov/pls/imis/accidentsearch.accident_detail?id=14316889',\n",
       "  'summary_nr': '014316889',\n",
       "  'event_date': '10/13/1995',\n",
       "  'report_id': '0317000',\n",
       "  'fatality': None,\n",
       "  'sic_url': 'https://www.osha.gov/sic-manual/2952',\n",
       "  'sic_number': '2952',\n",
       "  'event_description': 'Employee Dies After Being Burned By Hot Asphalt',\n",
       "  'fatility': 'X'},\n",
       " {'accident_id': '688689',\n",
       "  'summary_url': 'https://www.osha.gov/pls/imis/accidentsearch.accident_detail?id=688689',\n",
       "  'summary_nr': '000688689',\n",
       "  'event_date': '01/04/1995',\n",
       "  'report_id': '0522300',\n",
       "  'fatality': None,\n",
       "  'sic_url': 'https://www.osha.gov/sic-manual/3398',\n",
       "  'sic_number': '3398',\n",
       "  'event_description': 'Employee Asphyxiated In Oil When Pinned By Rack',\n",
       "  'fatility': 'X'},\n",
       " {'accident_id': '14418628',\n",
       "  'summary_url': 'https://www.osha.gov/pls/imis/accidentsearch.accident_detail?id=14418628',\n",
       "  'summary_nr': '014418628',\n",
       "  'event_date': '07/01/1992',\n",
       "  'report_id': '0728500',\n",
       "  'fatality': None,\n",
       "  'sic_url': 'https://www.osha.gov/sic-manual/3365',\n",
       "  'sic_number': '3365',\n",
       "  'event_description': 'Employee Dies After Falling Into Tank Of Hot Water',\n",
       "  'fatility': 'X'},\n",
       " {'accident_id': '602656',\n",
       "  'summary_url': 'https://www.osha.gov/pls/imis/accidentsearch.accident_detail?id=602656',\n",
       "  'summary_nr': '000602656',\n",
       "  'event_date': '02/28/1992',\n",
       "  'report_id': '0418300',\n",
       "  'fatality': None,\n",
       "  'sic_url': 'https://www.osha.gov/sic-manual/3363',\n",
       "  'sic_number': '3363',\n",
       "  'event_description': 'Employee Killed After Falling Into Hot Water',\n",
       "  'fatility': 'X'},\n",
       " {'accident_id': '786327',\n",
       "  'summary_url': 'https://www.osha.gov/pls/imis/accidentsearch.accident_detail?id=786327',\n",
       "  'summary_nr': '000786327',\n",
       "  'event_date': '12/26/1991',\n",
       "  'report_id': '1054111',\n",
       "  'fatality': None,\n",
       "  'sic_url': 'https://www.osha.gov/sic-manual/3425',\n",
       "  'sic_number': '3425',\n",
       "  'event_description': 'No Injuries In Flash Point Fire',\n",
       "  'fatility': '\\xa0'},\n",
       " {'accident_id': '14480347',\n",
       "  'summary_url': 'https://www.osha.gov/pls/imis/accidentsearch.accident_detail?id=14480347',\n",
       "  'summary_nr': '014480347',\n",
       "  'event_date': '10/11/1984',\n",
       "  'report_id': '0214200',\n",
       "  'fatality': None,\n",
       "  'sic_url': 'https://www.osha.gov/sic-manual/3479',\n",
       "  'sic_number': '3479',\n",
       "  'event_description': 'Fall Into Hot Water Quench Tank',\n",
       "  'fatility': 'X'}]"
      ]
     },
     "execution_count": 1,
     "metadata": {},
     "output_type": "execute_result"
    }
   ],
   "source": [
    "# Accidents Examples\n",
    "import fcis\n",
    "import pprint\n",
    "desc1= []\n",
    "keys1 = ['\"Quench Tank\"']\n",
    "# keys1 = ['Quench Tank']\n",
    "client = fcis.FCIS(descriptions=desc1, keywords=keys1)\n",
    "page = client._load_accidents_search_page()\n",
    "# page = client._load_accidents_search_page(p_finish=30)\n",
    "client._scrape_accidents_search_results(page)"
   ]
  },
  {
   "cell_type": "code",
   "execution_count": 9,
   "id": "0c4a9e85",
   "metadata": {},
   "outputs": [
    {
     "name": "stdout",
     "output_type": "stream",
     "text": [
      "https://www.osha.gov/pls/imis/AccidentSearch.search?acc_keyword=Quench+Tank\n"
     ]
    },
    {
     "data": {
      "text/plain": [
       "[{'accident_id': '113912.015',\n",
       "  'summary_url': 'https://www.osha.gov/pls/imis/accidentsearch.accident_detail?id=113912.015',\n",
       "  'summary_nr': '113912.01',\n",
       "  'event_date': '02/13/2019',\n",
       "  'report_id': '0522000',\n",
       "  'fatality': None,\n",
       "  'sic_url': None,\n",
       "  'sic_num': None,\n",
       "  'event_description': 'Employee Suffers Third Degree Burns After Quenching Of Alumi',\n",
       "  'fatility': '\\xa0'}]"
      ]
     },
     "execution_count": 9,
     "metadata": {},
     "output_type": "execute_result"
    }
   ],
   "source": [
    "\n",
    "\n",
    "# Accidents Examples\n",
    "import fcis\n",
    "import pprint\n",
    "desc1= []\n",
    "keys1 = [\"Quench Tank\"]\n",
    "client = fcis.FCIS(descriptions=desc1, keywords=keys1)\n",
    "page = client._load_accidents_search_page()\n",
    "client._scrape_accidents_search_results(page)\n",
    "\n"
   ]
  },
  {
   "cell_type": "code",
   "execution_count": 4,
   "id": "c979be4d",
   "metadata": {},
   "outputs": [],
   "source": []
  },
  {
   "cell_type": "code",
   "execution_count": 5,
   "id": "58245c29",
   "metadata": {},
   "outputs": [],
   "source": []
  },
  {
   "cell_type": "code",
   "execution_count": 1,
   "id": "f12114e5",
   "metadata": {},
   "outputs": [
    {
     "ename": "KeyError",
     "evalue": "'id'",
     "output_type": "error",
     "traceback": [
      "\u001b[0;31m---------------------------------------------------------------------------\u001b[0m",
      "\u001b[0;31mKeyError\u001b[0m                                  Traceback (most recent call last)",
      "Input \u001b[0;32mIn [1]\u001b[0m, in \u001b[0;36m<cell line: 8>\u001b[0;34m()\u001b[0m\n\u001b[1;32m      6\u001b[0m abst \u001b[38;5;241m=\u001b[39m []\n\u001b[1;32m      7\u001b[0m client \u001b[38;5;241m=\u001b[39m fcis\u001b[38;5;241m.\u001b[39mFCIS(descriptions\u001b[38;5;241m=\u001b[39mdesc1, keywords\u001b[38;5;241m=\u001b[39mkeys1)\n\u001b[0;32m----> 8\u001b[0m \u001b[38;5;28mprint\u001b[39m(\u001b[43mclient\u001b[49m\u001b[38;5;241;43m.\u001b[39;49m\u001b[43m_make_accident_details_url\u001b[49m\u001b[43m(\u001b[49m\u001b[43mids\u001b[49m\u001b[38;5;241;43m=\u001b[39;49m\u001b[43m[\u001b[49m\u001b[38;5;124;43m\"\u001b[39;49m\u001b[38;5;124;43m570341\u001b[39;49m\u001b[38;5;124;43m\"\u001b[39;49m\u001b[43m]\u001b[49m\u001b[43m)\u001b[49m)\n",
      "File \u001b[0;32m~/Development/code/fun/fcis-api/fcis/accidents.py:247\u001b[0m, in \u001b[0;36mAccidents._make_accident_details_url\u001b[0;34m(self, ids, url)\u001b[0m\n\u001b[1;32m    245\u001b[0m \u001b[38;5;28;01mif\u001b[39;00m ids:\n\u001b[1;32m    246\u001b[0m     \u001b[38;5;28;01mfor\u001b[39;00m details_id \u001b[38;5;129;01min\u001b[39;00m ids:\n\u001b[0;32m--> 247\u001b[0m         payload[\u001b[38;5;124m\"\u001b[39m\u001b[38;5;124mid\u001b[39m\u001b[38;5;124m\"\u001b[39m] \u001b[38;5;241m+\u001b[39m\u001b[38;5;241m=\u001b[39m details_id \u001b[38;5;241m+\u001b[39m \u001b[38;5;124m\"\u001b[39m\u001b[38;5;124m \u001b[39m\u001b[38;5;124m\"\u001b[39m\n\u001b[1;32m    248\u001b[0m     payload[\u001b[38;5;124m\"\u001b[39m\u001b[38;5;124mid\u001b[39m\u001b[38;5;124m\"\u001b[39m] \u001b[38;5;241m=\u001b[39m payload[\u001b[38;5;124m\"\u001b[39m\u001b[38;5;124mid\u001b[39m\u001b[38;5;124m\"\u001b[39m]\u001b[38;5;241m.\u001b[39mstrip()\n\u001b[1;32m    249\u001b[0m \u001b[38;5;28;01melse\u001b[39;00m:\n",
      "\u001b[0;31mKeyError\u001b[0m: 'id'"
     ]
    }
   ],
   "source": [
    "# Accidents Examples\n",
    "import fcis\n",
    "import pprint\n",
    "keys1=[]\n",
    "desc1=[]\n",
    "abst = []\n",
    "client = fcis.FCIS(descriptions=desc1, keywords=keys1)\n",
    "print(client._make_accident_details_url(ids=[\"570341\"]))\n",
    "# page = client._load_accidents_search_page()\n",
    "# client._scrape_accidents_search_results(page)\n",
    "\n"
   ]
  },
  {
   "cell_type": "code",
   "execution_count": null,
   "id": "21ffd2d0",
   "metadata": {},
   "outputs": [],
   "source": []
  },
  {
   "cell_type": "code",
   "execution_count": null,
   "id": "9cb9b749",
   "metadata": {},
   "outputs": [],
   "source": []
  }
 ],
 "metadata": {
  "kernelspec": {
   "display_name": "venv",
   "language": "python",
   "name": "venv"
  },
  "language_info": {
   "codemirror_mode": {
    "name": "ipython",
    "version": 3
   },
   "file_extension": ".py",
   "mimetype": "text/x-python",
   "name": "python",
   "nbconvert_exporter": "python",
   "pygments_lexer": "ipython3",
   "version": "3.9.13"
  },
  "vscode": {
   "interpreter": {
    "hash": "916dbcbb3f70747c44a77c7bcd40155683ae19c65e1c03b4aa3499c5328201f1"
   }
  }
 },
 "nbformat": 4,
 "nbformat_minor": 5
}
