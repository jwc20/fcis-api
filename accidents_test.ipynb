{
 "cells": [
  {
   "cell_type": "code",
   "execution_count": 1,
   "id": "7dfcc3aa",
   "metadata": {},
   "outputs": [],
   "source": [
    "from fcis.core import * \n",
    "from fcis.accidents import Accidents"
   ]
  },
  {
   "cell_type": "code",
   "execution_count": 9,
   "id": "543fac32",
   "metadata": {},
   "outputs": [],
   "source": [
    "word1 = 'cat'\n",
    "test = Accidents().get_keywords(word1[0])\n",
    "# print(test)"
   ]
  },
  {
   "cell_type": "code",
   "execution_count": 10,
   "id": "bbca560c",
   "metadata": {},
   "outputs": [
    {
     "name": "stdout",
     "output_type": "stream",
     "text": [
      "['Gas', 'Gas Can', 'gas can', 'guard', 'saw', 'sus']\n"
     ]
    }
   ],
   "source": [
    "words1 = [\"Gas\", \"Gas Can\", \"gas can\", \"ack\", \"guard\", \"alskjdhaksd\", \"hellppp!\", \"saw\", \"sus\", \"cat\"]\n",
    "test1 = Accidents().is_keyword(words1)\n",
    "print(test1)"
   ]
  },
  {
   "cell_type": "code",
   "execution_count": null,
   "id": "5385d9d2",
   "metadata": {},
   "outputs": [],
   "source": []
  },
  {
   "cell_type": "code",
   "execution_count": 1,
   "id": "82263b59",
   "metadata": {},
   "outputs": [
    {
     "name": "stdout",
     "output_type": "stream",
     "text": [
      "['Gas', 'Gas Can', 'gas can', 'guard', 'saw', 'sus']\n"
     ]
    }
   ],
   "source": [
    "# Accidents Examples\n",
    "import fcis\n",
    "keys1 = [\"Gas\", \"Gas Can\", \"gas can\", \"ack\", \"guard\", \"alskjdhaksd\", \"hellppp!\", \"saw\", \"sus\", \"cat\"]\n",
    "client = fcis.FCIS(keys1)\n",
    "print(client._get_validated_keywords(keys1))"
   ]
  },
  {
   "cell_type": "code",
   "execution_count": null,
   "id": "cd1a7656",
   "metadata": {},
   "outputs": [],
   "source": []
  },
  {
   "cell_type": "code",
   "execution_count": null,
   "id": "2ea9d591",
   "metadata": {},
   "outputs": [],
   "source": []
  },
  {
   "cell_type": "code",
   "execution_count": null,
   "id": "b28828e6",
   "metadata": {},
   "outputs": [],
   "source": []
  },
  {
   "cell_type": "code",
   "execution_count": null,
   "id": "a3084c91",
   "metadata": {},
   "outputs": [],
   "source": [
    "# https://www.osha.gov/pls/imis/accidentsearch.html\n",
    "# ?p_message=2\n",
    "# &acc_description=TRUCK%20stop%20car\n",
    "# &acc_abstract=\n",
    "# &acc_keyword=\n",
    "# &sic=\n",
    "# &naics=\n",
    "# &officetype=All\n",
    "# &office=All\n",
    "# &startmonth=06\n",
    "# &startday=18\n",
    "# &startyear=2023\n",
    "# &endmonth=06\n",
    "# &endday=18\n",
    "# &endyear=2002\n",
    "# &inspnr="
   ]
  },
  {
   "cell_type": "code",
   "execution_count": null,
   "id": "7117031b",
   "metadata": {},
   "outputs": [],
   "source": [
    "# https://www.osha.gov/pls/imis/AccidentSearch.search?p_logger=1\n",
    "# &acc_description=tank+explosion+gas\n",
    "# &acc_Abstract=\n",
    "# &acc_keyword=gas+explosion\n",
    "# &sic=\n",
    "# &naics=\n",
    "# &Office=All\n",
    "# &officetype=All\n",
    "# &endmonth=06\n",
    "# &endday=18\n",
    "# &endyear=2002\n",
    "# &startmonth=06\n",
    "# &startday=18\n",
    "# &startyear=2023\n",
    "# &InspNr="
   ]
  }
 ],
 "metadata": {
  "kernelspec": {
   "display_name": "venv",
   "language": "python",
   "name": "venv"
  },
  "language_info": {
   "codemirror_mode": {
    "name": "ipython",
    "version": 3
   },
   "file_extension": ".py",
   "mimetype": "text/x-python",
   "name": "python",
   "nbconvert_exporter": "python",
   "pygments_lexer": "ipython3",
   "version": "3.9.13"
  }
 },
 "nbformat": 4,
 "nbformat_minor": 5
}
