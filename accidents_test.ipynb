{
 "cells": [
  {
   "cell_type": "code",
   "execution_count": null,
   "id": "7dfcc3aa",
   "metadata": {},
   "outputs": [],
   "source": [
    "from fcis.core import * \n",
    "from fcis.accidents import Accidents"
   ]
  },
  {
   "cell_type": "code",
   "execution_count": null,
   "id": "6259294e",
   "metadata": {},
   "outputs": [],
   "source": [
    "# https://www.osha.gov/pls/imis/AccidentSearch.search\n",
    "# ?p_logger=1\n",
    "# &acc_description=boat+Employee\n",
    "# &acc_Abstract=boat+Employee\n",
    "# &acc_keyword=water+drown+boat\n",
    "# &sic=\n",
    "# &naics=\n",
    "# &Office=All\n",
    "# &officetype=All\n",
    "# &endmonth=06\n",
    "# &endday=18\n",
    "# &endyear=2002\n",
    "# &startmonth=06\n",
    "# &startday=18\n",
    "# &startyear=2023\n",
    "# &InspNr="
   ]
  },
  {
   "cell_type": "code",
   "execution_count": null,
   "id": "e276b453",
   "metadata": {
    "scrolled": true
   },
   "outputs": [],
   "source": [
    "# Accidents Examples\n",
    "import fcis\n",
    "desc1= [\"boat\", \"Employee\"]\n",
    "abs1=  [\"boat\", \"Employee\"]\n",
    "keys1 = [\"water\", \"drown\", \"boat\"]\n",
    "client = fcis.FCIS(descriptions=desc1, abstracts=abs1, keywords=keys1)\n",
    "# test\n",
    "# print(client._get_validated_keywords(keys1))\n",
    "# print(client._load_accidents_search_page())\n",
    "\n",
    "page = client._load_accidents_search_page()\n",
    "client._scrape_accidents_search_results(page)\n"
   ]
  },
  {
   "cell_type": "code",
   "execution_count": null,
   "id": "faa609df",
   "metadata": {
    "scrolled": true
   },
   "outputs": [],
   "source": [
    "# Accidents Examples\n",
    "import fcis\n",
    "import pprint\n",
    "desc1= []\n",
    "keys1 = ['\"Quench Tank\"']\n",
    "# keys1 = ['Quench Tank']\n",
    "client = fcis.FCIS(descriptions=desc1, keywords=keys1)\n",
    "page = client._load_accidents_search_page()\n",
    "# page = client._load_accidents_search_page(p_finish=30)\n",
    "client._scrape_accidents_search_results(page)"
   ]
  },
  {
   "cell_type": "code",
   "execution_count": null,
   "id": "0c4a9e85",
   "metadata": {},
   "outputs": [],
   "source": [
    "\n",
    "\n",
    "# Accidents Examples\n",
    "import fcis\n",
    "import pprint\n",
    "desc1= []\n",
    "keys1 = [\"Quench Tank\"]\n",
    "client = fcis.FCIS(descriptions=desc1, keywords=keys1)\n",
    "page = client._load_accidents_search_page()\n",
    "client._scrape_accidents_search_results(page)\n",
    "\n"
   ]
  },
  {
   "cell_type": "code",
   "execution_count": null,
   "id": "c979be4d",
   "metadata": {},
   "outputs": [],
   "source": []
  },
  {
   "cell_type": "code",
   "execution_count": null,
   "id": "58245c29",
   "metadata": {},
   "outputs": [],
   "source": []
  },
  {
   "cell_type": "code",
   "execution_count": 2,
   "id": "f12114e5",
   "metadata": {},
   "outputs": [
    {
     "name": "stdout",
     "output_type": "stream",
     "text": [
      "<div class=\"table-responsive\"><table class=\"tablei_100 table-borderedi_100 table-striped\">\n",
      "<tr><td colspan=\"8\"><div class=\"text-center\"><strong>Accident: 116803.015 -- Report ID: 0728900 -- Event Date: 06/01/2019</strong></div></td></tr>\n",
      "<tr><th colspan=\"1\">Inspection</th><th colspan=\"1\" nowrap=\"\">Open Date</th><th colspan=\"1\">SIC</th><th colspan=\"5\">Establishment Name</th></tr>\n",
      "<tr><td colspan=\"1\"><a href=\"establishment.inspection_detail?id=1405530.015\" title=\"1405530.015\">1405530.015</a></td><td colspan=\"1\">06/03/2019</td><td colspan=\"1\"><a href=\"sic_manual.display?id=&amp;tab=description\" title=\"\"></a></td><td colspan=\"5\">Nutrien Ag Solutions</td></tr>\n",
      "<tr><td colspan=\"8\">\n",
      "At 10:30 a.m. on June 1, 2019, an employee was using a 1967 John Deere tractor, Model 3020, to move an approximately 200,000 lbs rail car, vehicle ID# 412494, u sing a heavy chain that was attached to both vehicles.  The employee was trying to speed the tractor up while a coworker was attempting to stop the rail car.  T he employee was run over by the tractor when the chain pulled taut and flipped t he tractor.  The employee was killed.\n",
      "</td></tr>\n",
      "<tr><td colspan=\"8\"><div class=\"text-center\"><strong>Keywords:</strong> \n",
      "crushed, railroad car, roll-over, run over, struck by, tractor\n",
      "</div></td></tr>\n",
      "<tr><th>Employee #</th>\n",
      "<th>Inspection</th>\n",
      "<th>Age</th>\n",
      "<th>Sex</th>\n",
      "<th>Degree</th>\n",
      "<th>Nature</th>\n",
      "<th></th>\n",
      "<th></th>\n",
      "</tr>\n",
      "<tr><td><a href=\"accidentsearch.accident_inspection?line_item=1&amp;id=6045402123267\" title=\"1\">1</a></td>\n",
      "<td><a href=\"establishment.inspection_detail?id=1405530.015\" title=\"1405530.015\">1405530.015</a></td>\n",
      "<td>59</td>\n",
      "<td>M</td>\n",
      "<td>Fatality</td>\n",
      "<td></td>\n",
      "<td></td>\n",
      "<td></td>\n",
      "</tr>\n",
      "</table></div>\n",
      "<div class=\"table-responsive\"><table class=\"tablei_100 table-borderedi_100 table-striped\">\n",
      "<tr><td colspan=\"8\"><div class=\"text-center\"><strong>Accident: 570341 -- Report ID: 0522300 -- Event Date: 08/15/1984</strong></div></td></tr>\n",
      "<tr><th colspan=\"1\">Inspection</th><th colspan=\"1\" nowrap=\"\">Open Date</th><th colspan=\"1\">SIC</th><th colspan=\"5\">Establishment Name</th></tr>\n",
      "<tr><td colspan=\"1\"><a href=\"establishment.inspection_detail?id=1667450\" title=\"1667450\">1667450</a></td><td colspan=\"1\">08/16/1984</td><td colspan=\"1\"><a href=\"sic_manual.display?id=934&amp;tab=description\" title=\"4741\">4741</a></td><td colspan=\"5\">Mobile Tank Car Services</td></tr>\n",
      "<tr><td colspan=\"8\">\n",
      "THREE EMPLOYEES WERE CLEANING A RAILROAD TANK CAR CONTAINING RESIDUES OF COAL TAR LIGHT OIL, A FLAMMABLE LIQUID. ONE WAS ON TOP OF THE CAR, THE OTHER TWO WERE INSIDE. THEY WERE USING STEEL SHOVELS AND A NON EXPLOSION-PROOF LIGHT INSIDE THE CAR. THE VAPORS IGNITED, KILLING THE TWO EMPLOYEES INSIDE AND BURNING THE ONE ON TOP. THE OTHER EMPLOYEES WERE INJURED IN THE RESCUE ATTEMPT.\n",
      "</td></tr>\n",
      "<tr><td colspan=\"8\"><div class=\"text-center\"><strong>Keywords:</strong> \n",
      "burn, coal tar light oil, flammable vapors, railroad tank car, cleaning, explosion\n",
      "</div></td></tr>\n",
      "<tr><th>Employee #</th>\n",
      "<th>Inspection</th>\n",
      "<th>Age</th>\n",
      "<th>Sex</th>\n",
      "<th>Degree</th>\n",
      "<th>Nature</th>\n",
      "<th>Occupation</th>\n",
      "<th></th>\n",
      "</tr>\n",
      "<tr><td><a href=\"accidentsearch.accident_inspection?line_item=1&amp;id=3216746456997\" title=\"1\">1</a></td>\n",
      "<td><a href=\"establishment.inspection_detail?id=1667450\" title=\"1667450\">1667450</a></td>\n",
      "<td></td>\n",
      "<td></td>\n",
      "<td>Fatality</td>\n",
      "<td>Asphyxia</td>\n",
      "<td>Occupation not reported</td>\n",
      "<td></td>\n",
      "</tr>\n",
      "<tr><td><a href=\"accidentsearch.accident_inspection?line_item=2&amp;id=3216746591250\" title=\"2\">2</a></td>\n",
      "<td><a href=\"establishment.inspection_detail?id=1667450\" title=\"1667450\">1667450</a></td>\n",
      "<td></td>\n",
      "<td></td>\n",
      "<td>Fatality</td>\n",
      "<td>Asphyxia</td>\n",
      "<td>Occupation not reported</td>\n",
      "<td></td>\n",
      "</tr>\n",
      "<tr><td><a href=\"accidentsearch.accident_inspection?line_item=3&amp;id=3216746725503\" title=\"3\">3</a></td>\n",
      "<td><a href=\"establishment.inspection_detail?id=1667450\" title=\"1667450\">1667450</a></td>\n",
      "<td></td>\n",
      "<td></td>\n",
      "<td>Hospitalized injury</td>\n",
      "<td>Other</td>\n",
      "<td>Occupation not reported</td>\n",
      "<td></td>\n",
      "</tr>\n",
      "<tr><td><a href=\"accidentsearch.accident_inspection?line_item=4&amp;id=3216746859756\" title=\"4\">4</a></td>\n",
      "<td><a href=\"establishment.inspection_detail?id=1667450\" title=\"1667450\">1667450</a></td>\n",
      "<td></td>\n",
      "<td></td>\n",
      "<td>Hospitalized injury</td>\n",
      "<td>Other</td>\n",
      "<td>Occupation not reported</td>\n",
      "<td></td>\n",
      "</tr>\n",
      "<tr><td><a href=\"accidentsearch.accident_inspection?line_item=5&amp;id=3216746994009\" title=\"5\">5</a></td>\n",
      "<td><a href=\"establishment.inspection_detail?id=1667450\" title=\"1667450\">1667450</a></td>\n",
      "<td></td>\n",
      "<td></td>\n",
      "<td>Hospitalized injury</td>\n",
      "<td>Other</td>\n",
      "<td>Occupation not reported</td>\n",
      "<td></td>\n",
      "</tr>\n",
      "<tr><td><a href=\"accidentsearch.accident_inspection?line_item=6&amp;id=3216747128262\" title=\"6\">6</a></td>\n",
      "<td><a href=\"establishment.inspection_detail?id=1667450\" title=\"1667450\">1667450</a></td>\n",
      "<td></td>\n",
      "<td></td>\n",
      "<td>Hospitalized injury</td>\n",
      "<td>Other</td>\n",
      "<td>Occupation not reported</td>\n",
      "<td></td>\n",
      "</tr>\n",
      "</table></div>\n"
     ]
    }
   ],
   "source": [
    "# Accidents Examples\n",
    "import fcis\n",
    "import pprint\n",
    "keys1=[]\n",
    "desc1=[]\n",
    "abst = []\n",
    "client = fcis.FCIS(descriptions=desc1, keywords=keys1)\n",
    "# print(client._make_accident_details_url(ids=[\"570341\", \"116803.015\"]))\n",
    "soup_data = client._load_accident_details_page(ids=[\"570341\", \"116803.015\"])\n",
    "client._scrape_accident_details(soup_data)"
   ]
  },
  {
   "cell_type": "code",
   "execution_count": null,
   "id": "21ffd2d0",
   "metadata": {},
   "outputs": [],
   "source": []
  },
  {
   "cell_type": "code",
   "execution_count": null,
   "id": "9cb9b749",
   "metadata": {},
   "outputs": [],
   "source": []
  }
 ],
 "metadata": {
  "kernelspec": {
   "display_name": "venv",
   "language": "python",
   "name": "venv"
  },
  "language_info": {
   "codemirror_mode": {
    "name": "ipython",
    "version": 3
   },
   "file_extension": ".py",
   "mimetype": "text/x-python",
   "name": "python",
   "nbconvert_exporter": "python",
   "pygments_lexer": "ipython3",
   "version": "3.9.13"
  },
  "vscode": {
   "interpreter": {
    "hash": "916dbcbb3f70747c44a77c7bcd40155683ae19c65e1c03b4aa3499c5328201f1"
   }
  }
 },
 "nbformat": 4,
 "nbformat_minor": 5
}
