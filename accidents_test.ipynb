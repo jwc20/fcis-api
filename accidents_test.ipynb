{
 "cells": [
  {
   "cell_type": "code",
   "execution_count": null,
   "id": "7dfcc3aa",
   "metadata": {},
   "outputs": [],
   "source": [
    "from fcis.core import * \n",
    "from fcis.accidents import Accidents"
   ]
  },
  {
   "cell_type": "code",
   "execution_count": null,
   "id": "6259294e",
   "metadata": {},
   "outputs": [],
   "source": [
    "# https://www.osha.gov/pls/imis/AccidentSearch.search\n",
    "# ?p_logger=1\n",
    "# &acc_description=boat+Employee\n",
    "# &acc_Abstract=boat+Employee\n",
    "# &acc_keyword=water+drown+boat\n",
    "# &sic=\n",
    "# &naics=\n",
    "# &Office=All\n",
    "# &officetype=All\n",
    "# &endmonth=06\n",
    "# &endday=18\n",
    "# &endyear=2002\n",
    "# &startmonth=06\n",
    "# &startday=18\n",
    "# &startyear=2023\n",
    "# &InspNr="
   ]
  },
  {
   "cell_type": "code",
   "execution_count": null,
   "id": "e276b453",
   "metadata": {
    "scrolled": true
   },
   "outputs": [],
   "source": [
    "# Accidents Examples\n",
    "import fcis\n",
    "desc1= [\"boat\", \"Employee\"]\n",
    "abs1=  [\"boat\", \"Employee\"]\n",
    "keys1 = [\"water\", \"drown\", \"boat\"]\n",
    "client = fcis.FCIS(descriptions=desc1, abstracts=abs1, keywords=keys1)\n",
    "# test\n",
    "# print(client._get_validated_keywords(keys1))\n",
    "# print(client._load_accidents_search_page())\n",
    "\n",
    "page = client._load_accidents_search_page()\n",
    "client._scrape_accidents_search_results(page)\n"
   ]
  },
  {
   "cell_type": "code",
   "execution_count": null,
   "id": "faa609df",
   "metadata": {
    "scrolled": true
   },
   "outputs": [],
   "source": [
    "# Accidents Examples\n",
    "import fcis\n",
    "import pprint\n",
    "desc1= []\n",
    "keys1 = ['\"Quench Tank\"']\n",
    "# keys1 = ['Quench Tank']\n",
    "client = fcis.FCIS(descriptions=desc1, keywords=keys1)\n",
    "page = client._load_accidents_search_page()\n",
    "# page = client._load_accidents_search_page(p_finish=30)\n",
    "client._scrape_accidents_search_results(page)"
   ]
  },
  {
   "cell_type": "code",
   "execution_count": null,
   "id": "0c4a9e85",
   "metadata": {},
   "outputs": [],
   "source": [
    "\n",
    "\n",
    "# Accidents Examples\n",
    "import fcis\n",
    "import pprint\n",
    "desc1= []\n",
    "keys1 = [\"Quench Tank\"]\n",
    "client = fcis.FCIS(descriptions=desc1, keywords=keys1)\n",
    "page = client._load_accidents_search_page()\n",
    "client._scrape_accidents_search_results(page)\n",
    "\n"
   ]
  },
  {
   "cell_type": "code",
   "execution_count": null,
   "id": "c979be4d",
   "metadata": {},
   "outputs": [],
   "source": []
  },
  {
   "cell_type": "code",
   "execution_count": null,
   "id": "58245c29",
   "metadata": {},
   "outputs": [],
   "source": []
  },
  {
   "cell_type": "code",
   "execution_count": 1,
   "id": "f12114e5",
   "metadata": {},
   "outputs": [
    {
     "data": {
      "text/plain": [
       "[{'accident_number': '116803.015',\n",
       "  'report_id': '0728900',\n",
       "  'event_date': '06/01/2019',\n",
       "  'inpection_url': None,\n",
       "  'inpection_number': None,\n",
       "  'open_date': None,\n",
       "  'sic_number': None,\n",
       "  'establishment_name': None,\n",
       "  'detail_description': None,\n",
       "  'keywords': [],\n",
       "  'inspection_url': 'establishment.inspection_detail?id=1405530.015',\n",
       "  'inspection_number': '1405530.015'},\n",
       " {'accident_number': '171061435',\n",
       "  'report_id': '0854910',\n",
       "  'event_date': '09/19/2001',\n",
       "  'inpection_url': None,\n",
       "  'inpection_number': None,\n",
       "  'open_date': None,\n",
       "  'sic_number': None,\n",
       "  'establishment_name': None,\n",
       "  'detail_description': None,\n",
       "  'keywords': [],\n",
       "  'inspection_url': 'establishment.inspection_detail?id=304411838',\n",
       "  'inspection_number': '304411838'},\n",
       " {'accident_number': '570341',\n",
       "  'report_id': '0522300',\n",
       "  'event_date': '08/15/1984',\n",
       "  'inpection_url': None,\n",
       "  'inpection_number': None,\n",
       "  'open_date': None,\n",
       "  'sic_number': None,\n",
       "  'establishment_name': None,\n",
       "  'detail_description': None,\n",
       "  'keywords': [],\n",
       "  'inspection_url': 'establishment.inspection_detail?id=1667450',\n",
       "  'inspection_number': '1667450'}]"
      ]
     },
     "execution_count": 1,
     "metadata": {},
     "output_type": "execute_result"
    }
   ],
   "source": [
    "# Accidents Examples\n",
    "import fcis\n",
    "import pprint\n",
    "keys1=[]\n",
    "desc1=[]\n",
    "abst = []\n",
    "client = fcis.FCIS(descriptions=desc1, keywords=keys1)\n",
    "# print(client._make_accident_details_url(ids=[\"570341\", \"116803.015\"]))\n",
    "soup_data = client._load_accident_details_page(ids=[\"570341\", \"116803.015\", \"171061435\"])\n",
    "client._scrape_accident_details(soup_data)"
   ]
  },
  {
   "cell_type": "code",
   "execution_count": null,
   "id": "21ffd2d0",
   "metadata": {},
   "outputs": [],
   "source": []
  },
  {
   "cell_type": "code",
   "execution_count": null,
   "id": "9cb9b749",
   "metadata": {},
   "outputs": [],
   "source": []
  }
 ],
 "metadata": {
  "kernelspec": {
   "display_name": "venv",
   "language": "python",
   "name": "venv"
  },
  "language_info": {
   "codemirror_mode": {
    "name": "ipython",
    "version": 3
   },
   "file_extension": ".py",
   "mimetype": "text/x-python",
   "name": "python",
   "nbconvert_exporter": "python",
   "pygments_lexer": "ipython3",
   "version": "3.9.13"
  },
  "vscode": {
   "interpreter": {
    "hash": "916dbcbb3f70747c44a77c7bcd40155683ae19c65e1c03b4aa3499c5328201f1"
   }
  }
 },
 "nbformat": 4,
 "nbformat_minor": 5
}
