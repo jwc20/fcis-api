{
 "cells": [
  {
   "cell_type": "code",
   "execution_count": 1,
   "id": "7dfcc3aa",
   "metadata": {},
   "outputs": [],
   "source": [
    "from fcis.core import * \n",
    "from fcis.accidents import Accidents"
   ]
  },
  {
   "cell_type": "code",
   "execution_count": 2,
   "id": "543fac32",
   "metadata": {},
   "outputs": [
    {
     "name": "stdout",
     "output_type": "stream",
     "text": [
      "['gantry crane', 'garbage truck', 'garnett machine', 'gas', 'gas can', 'gas fitting', 'gas generator', 'gas leak', 'gas powered welder', 'gas station', 'gas well', 'gas well drilling', 'gas-fired boiler', 'gasket', 'gasoline', 'gate', 'gear', 'geronimo line', 'gin pole', 'girder', 'glass pack', 'glove', 'glue', 'goggles', 'golf cart', 'gored', 'grader', 'grain', 'grain bin', 'grain dust', 'grain elevator', 'grate', 'grating', 'gravel trailer', 'grease', 'grinder', 'grinding machine', 'grinding room', 'grinding wheel', 'grocery store', 'groin', 'grommet machine', 'ground crew worker', 'ground fault', 'grounding electrode', 'guard', 'guardrail', 'guide', 'guide post', 'guillotine shear', 'gun', 'gunfire', 'gunshot', 'gutter', 'guy']\n"
     ]
    }
   ],
   "source": [
    "word1 = 'Gas'\n",
    "test = Accidents().get_keywords(word1[0])\n",
    "print(test)"
   ]
  },
  {
   "cell_type": "code",
   "execution_count": 3,
   "id": "eaa52e9b",
   "metadata": {},
   "outputs": [
    {
     "name": "stdout",
     "output_type": "stream",
     "text": [
      "['Gas', 'Gas Can', 'gas can']\n"
     ]
    }
   ],
   "source": [
    "words1 = [\"Gas\", \"Gas Can\", \"gas can\", \"ack\", \"guard\", \"alskjdhaksd\"]\n",
    "test1 = Accidents().is_keyword(words1)\n",
    "print(test1)"
   ]
  },
  {
   "cell_type": "code",
   "execution_count": null,
   "id": "c6938fe8",
   "metadata": {},
   "outputs": [],
   "source": []
  },
  {
   "cell_type": "code",
   "execution_count": null,
   "id": "bf106d13",
   "metadata": {},
   "outputs": [],
   "source": []
  },
  {
   "cell_type": "code",
   "execution_count": null,
   "id": "6dcff652",
   "metadata": {},
   "outputs": [],
   "source": []
  },
  {
   "cell_type": "code",
   "execution_count": null,
   "id": "e8898171",
   "metadata": {},
   "outputs": [],
   "source": []
  },
  {
   "cell_type": "code",
   "execution_count": null,
   "id": "5761e93b",
   "metadata": {},
   "outputs": [],
   "source": []
  },
  {
   "cell_type": "code",
   "execution_count": null,
   "id": "de486398",
   "metadata": {},
   "outputs": [],
   "source": []
  },
  {
   "cell_type": "code",
   "execution_count": null,
   "id": "a1946261",
   "metadata": {},
   "outputs": [],
   "source": []
  },
  {
   "cell_type": "code",
   "execution_count": null,
   "id": "0b9845b8",
   "metadata": {},
   "outputs": [],
   "source": [
    "# https://www.osha.gov/pls/imis/accidentsearch.html\n",
    "# ?p_message=2\n",
    "# &acc_description=TRUCK%20stop%20car\n",
    "# &acc_abstract=\n",
    "# &acc_keyword=\n",
    "# &sic=\n",
    "# &naics=\n",
    "# &officetype=All\n",
    "# &office=All\n",
    "# &startmonth=06\n",
    "# &startday=18\n",
    "# &startyear=2023\n",
    "# &endmonth=06\n",
    "# &endday=18\n",
    "# &endyear=2002\n",
    "# &inspnr="
   ]
  },
  {
   "cell_type": "code",
   "execution_count": null,
   "id": "388fdef2",
   "metadata": {},
   "outputs": [],
   "source": [
    "# https://www.osha.gov/pls/imis/AccidentSearch.search?p_logger=1\n",
    "# &acc_description=tank+explosion+gas\n",
    "# &acc_Abstract=\n",
    "# &acc_keyword=gas+explosion\n",
    "# &sic=\n",
    "# &naics=\n",
    "# &Office=All\n",
    "# &officetype=All\n",
    "# &endmonth=06\n",
    "# &endday=18\n",
    "# &endyear=2002\n",
    "# &startmonth=06\n",
    "# &startday=18\n",
    "# &startyear=2023\n",
    "# &InspNr="
   ]
  }
 ],
 "metadata": {
  "kernelspec": {
   "display_name": "venv",
   "language": "python",
   "name": "venv"
  },
  "language_info": {
   "codemirror_mode": {
    "name": "ipython",
    "version": 3
   },
   "file_extension": ".py",
   "mimetype": "text/x-python",
   "name": "python",
   "nbconvert_exporter": "python",
   "pygments_lexer": "ipython3",
   "version": "3.9.13"
  }
 },
 "nbformat": 4,
 "nbformat_minor": 5
}
