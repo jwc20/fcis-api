{
 "cells": [
  {
   "cell_type": "code",
   "execution_count": null,
   "id": "7dfcc3aa",
   "metadata": {},
   "outputs": [],
   "source": [
    "from fcis.core import * \n",
    "from fcis.accidents import Accidents"
   ]
  },
  {
   "cell_type": "code",
   "execution_count": null,
   "id": "6259294e",
   "metadata": {},
   "outputs": [],
   "source": [
    "# https://www.osha.gov/pls/imis/AccidentSearch.search\n",
    "# ?p_logger=1\n",
    "# &acc_description=boat+Employee\n",
    "# &acc_Abstract=boat+Employee\n",
    "# &acc_keyword=water+drown+boat\n",
    "# &sic=\n",
    "# &naics=\n",
    "# &Office=All\n",
    "# &officetype=All\n",
    "# &endmonth=06\n",
    "# &endday=18\n",
    "# &endyear=2002\n",
    "# &startmonth=06\n",
    "# &startday=18\n",
    "# &startyear=2023\n",
    "# &InspNr="
   ]
  },
  {
   "cell_type": "code",
   "execution_count": null,
   "id": "e276b453",
   "metadata": {
    "scrolled": true
   },
   "outputs": [],
   "source": [
    "# # Accidents Examples\n",
    "# import fcis\n",
    "# desc1= [\"boat\", \"Employee\"]\n",
    "# abs1=  [\"boat\", \"Employee\"]\n",
    "# keys1 = [\"water\", \"drown\", \"boat\"]\n",
    "# client = fcis.FCIS(descriptions=desc1, abstracts=abs1, keywords=keys1)\n",
    "# # test\n",
    "# # print(client._get_validated_keywords(keys1))\n",
    "# # print(client._load_accidents_search_page())\n",
    "\n",
    "# page = client._load_accidents_search_page()\n",
    "# client._scrape_accidents_search_results(page)\n"
   ]
  },
  {
   "cell_type": "code",
   "execution_count": null,
   "id": "faa609df",
   "metadata": {
    "scrolled": true
   },
   "outputs": [],
   "source": [
    "# # Accidents Examples\n",
    "# import fcis\n",
    "# import pprint\n",
    "# desc1= []\n",
    "# keys1 = ['\"Quench Tank\"']\n",
    "# # keys1 = ['Quench Tank']\n",
    "# client = fcis.FCIS(descriptions=desc1, keywords=keys1)\n",
    "# page = client._load_accidents_search_page()\n",
    "# # page = client._load_accidents_search_page(p_finish=30)\n",
    "# client._scrape_accidents_search_results(page)"
   ]
  },
  {
   "cell_type": "code",
   "execution_count": null,
   "id": "0c4a9e85",
   "metadata": {
    "scrolled": true
   },
   "outputs": [],
   "source": [
    "\n",
    "\n",
    "# Accidents Examples\n",
    "import fcis\n",
    "import pprint\n",
    "desc1= [\"employee\"]\n",
    "keys1 = [\"fire\"]\n",
    "client = fcis.FCIS(descriptions=desc1, keywords=keys1)\n",
    "page = client._load_accidents_search_page()\n",
    "# client._scrape_accidents_search_results(page)\n",
    "client.get_accidents(p_show=100)\n",
    "\n"
   ]
  },
  {
   "cell_type": "code",
   "execution_count": null,
   "id": "c979be4d",
   "metadata": {},
   "outputs": [],
   "source": []
  },
  {
   "cell_type": "code",
   "execution_count": null,
   "id": "58245c29",
   "metadata": {},
   "outputs": [],
   "source": []
  },
  {
   "cell_type": "code",
   "execution_count": null,
   "id": "f12114e5",
   "metadata": {},
   "outputs": [],
   "source": [
    "# Accidents Examples\n",
    "import fcis\n",
    "import pprint\n",
    "keys1=[]\n",
    "desc1=[]\n",
    "abst = []\n",
    "client = fcis.FCIS(descriptions=desc1, keywords=keys1)\n",
    "# print(client._make_accident_details_url(ids=[\"570341\", \"116803.015\"]))\n",
    "soup_data = client._load_accident_details_page(ids=[\"570341\", \"116803.015\", \"171061435\"])\n",
    "# soup_data = client._load_accident_details_page(ids=[\"116803.015\"])\n",
    "# soup_data = client._load_accident_details_page(ids=[\"570341\"])\n",
    "# soup_data = client._load_accident_details_page(ids=[\"171061435\"])\n",
    "\n",
    "client._scrape_accident_details(soup_data)"
   ]
  },
  {
   "cell_type": "code",
   "execution_count": null,
   "id": "21ffd2d0",
   "metadata": {},
   "outputs": [],
   "source": [
    "# Accidents Examples\n",
    "import fcis\n",
    "import pprint\n",
    "keys1=[]\n",
    "desc1=[]\n",
    "abst = []\n",
    "client = fcis.FCIS(descriptions=desc1, keywords=keys1)\n",
    "# print(client._make_accident_details_url(ids=[\"570341\", \"116803.015\"]))\n",
    "# soup_data = client._load_accident_details_page(ids=[\"570341\", \"116803.015\", \"171061435\"])\n",
    "# soup_data = client._load_accident_details_page(ids=[\"116803.015\"])\n",
    "# soup_data = client._load_accident_details_page(ids=[\"570341\"])\n",
    "soup_data = client._load_accident_details_page(ids=[\"171061435\"])\n",
    "\n",
    "client.get_accident_details(ids=[\"570341\"])\n"
   ]
  },
  {
   "cell_type": "code",
   "execution_count": null,
   "id": "9cb9b749",
   "metadata": {},
   "outputs": [],
   "source": []
  },
  {
   "cell_type": "code",
   "execution_count": 12,
   "id": "5a50d153",
   "metadata": {},
   "outputs": [
    {
     "ename": "TypeError",
     "evalue": "get_accidents() got an unexpected keyword argument 'fatality'",
     "output_type": "error",
     "traceback": [
      "\u001b[0;31m---------------------------------------------------------------------------\u001b[0m",
      "\u001b[0;31mTypeError\u001b[0m                                 Traceback (most recent call last)",
      "Input \u001b[0;32mIn [12]\u001b[0m, in \u001b[0;36m<cell line: 9>\u001b[0;34m()\u001b[0m\n\u001b[1;32m      6\u001b[0m abst \u001b[38;5;241m=\u001b[39m []\n\u001b[1;32m      7\u001b[0m client \u001b[38;5;241m=\u001b[39m fcis\u001b[38;5;241m.\u001b[39mFCIS(descriptions\u001b[38;5;241m=\u001b[39mdesc1, keywords\u001b[38;5;241m=\u001b[39mkeys1)\n\u001b[0;32m----> 9\u001b[0m pprint(\u001b[43mclient\u001b[49m\u001b[38;5;241;43m.\u001b[39;49m\u001b[43mget_accidents\u001b[49m\u001b[43m(\u001b[49m\u001b[43mfatality\u001b[49m\u001b[38;5;241;43m=\u001b[39;49m\u001b[38;5;124;43m\"\u001b[39;49m\u001b[38;5;124;43mfatality\u001b[39;49m\u001b[38;5;124;43m\"\u001b[39;49m\u001b[43m,\u001b[49m\u001b[43m \u001b[49m\u001b[43mp_show\u001b[49m\u001b[38;5;241;43m=\u001b[39;49m\u001b[38;5;241;43m1000\u001b[39;49m\u001b[43m)\u001b[49m)\n",
      "\u001b[0;31mTypeError\u001b[0m: get_accidents() got an unexpected keyword argument 'fatality'"
     ]
    }
   ],
   "source": [
    "# Accidents Examples\n",
    "import fcis\n",
    "from pprint import pprint\n",
    "keys1=[]\n",
    "desc1=[\"acid\"]\n",
    "abst = []\n",
    "client = fcis.FCIS(descriptions=desc1, keywords=keys1)\n",
    "\n",
    "pprint(client.get_accidents(fatality=\"fatality\", p_show=1000))\n",
    "# pprint(client.get_accident_details(ids=[\"141637.015\"]))\n"
   ]
  },
  {
   "cell_type": "code",
   "execution_count": null,
   "id": "e1ff124f",
   "metadata": {},
   "outputs": [],
   "source": []
  },
  {
   "cell_type": "code",
   "execution_count": null,
   "id": "f2ad9265",
   "metadata": {},
   "outputs": [],
   "source": []
  },
  {
   "cell_type": "code",
   "execution_count": null,
   "id": "39df9592",
   "metadata": {},
   "outputs": [],
   "source": []
  },
  {
   "cell_type": "code",
   "execution_count": null,
   "id": "ec5b615b",
   "metadata": {},
   "outputs": [],
   "source": []
  },
  {
   "cell_type": "code",
   "execution_count": null,
   "id": "79426f1f",
   "metadata": {},
   "outputs": [],
   "source": []
  }
 ],
 "metadata": {
  "kernelspec": {
   "display_name": "venv",
   "language": "python",
   "name": "venv"
  },
  "language_info": {
   "codemirror_mode": {
    "name": "ipython",
    "version": 3
   },
   "file_extension": ".py",
   "mimetype": "text/x-python",
   "name": "python",
   "nbconvert_exporter": "python",
   "pygments_lexer": "ipython3",
   "version": "3.9.13"
  },
  "vscode": {
   "interpreter": {
    "hash": "916dbcbb3f70747c44a77c7bcd40155683ae19c65e1c03b4aa3499c5328201f1"
   }
  }
 },
 "nbformat": 4,
 "nbformat_minor": 5
}
