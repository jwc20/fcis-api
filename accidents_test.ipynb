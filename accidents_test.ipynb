{
 "cells": [
  {
   "cell_type": "code",
   "execution_count": 1,
   "id": "7dfcc3aa",
   "metadata": {},
   "outputs": [],
   "source": [
    "from fcis.core import * \n",
    "from fcis.accidents import Accidents"
   ]
  },
  {
   "cell_type": "code",
   "execution_count": 2,
   "id": "543fac32",
   "metadata": {},
   "outputs": [
    {
     "ename": "AttributeError",
     "evalue": "'NoneType' object has no attribute 'find_all'",
     "output_type": "error",
     "traceback": [
      "\u001b[0;31m---------------------------------------------------------------------------\u001b[0m",
      "\u001b[0;31mAttributeError\u001b[0m                            Traceback (most recent call last)",
      "\u001b[1;32m/home/cjw/code/fun/fcis-api/accidents_test.ipynb Cell 2'\u001b[0m in \u001b[0;36m<cell line: 2>\u001b[0;34m()\u001b[0m\n\u001b[1;32m      <a href='vscode-notebook-cell://wsl%2Bubuntu/home/cjw/code/fun/fcis-api/accidents_test.ipynb#ch0000001vscode-remote?line=0'>1</a>\u001b[0m word1 \u001b[39m=\u001b[39m \u001b[39m'\u001b[39m\u001b[39mcat\u001b[39m\u001b[39m'\u001b[39m\n\u001b[0;32m----> <a href='vscode-notebook-cell://wsl%2Bubuntu/home/cjw/code/fun/fcis-api/accidents_test.ipynb#ch0000001vscode-remote?line=1'>2</a>\u001b[0m test \u001b[39m=\u001b[39m Accidents()\u001b[39m.\u001b[39;49m_get_keywords(word1[\u001b[39m0\u001b[39;49m])\n",
      "File \u001b[0;32m~/code/fun/fcis-api/fcis/accidents.py:143\u001b[0m, in \u001b[0;36mAccidents._get_keywords\u001b[0;34m(self, first_letter)\u001b[0m\n\u001b[1;32m    141\u001b[0m keyword_list \u001b[39m=\u001b[39m []\n\u001b[1;32m    142\u001b[0m page \u001b[39m=\u001b[39m \u001b[39mself\u001b[39m\u001b[39m.\u001b[39m_load_accidents_keywords_page(first_letter)\n\u001b[0;32m--> 143\u001b[0m a_hrefs \u001b[39m=\u001b[39m page\u001b[39m.\u001b[39;49mfind(\u001b[39m\"\u001b[39;49m\u001b[39mdiv\u001b[39;49m\u001b[39m\"\u001b[39;49m, {\u001b[39m\"\u001b[39;49m\u001b[39mclass\u001b[39;49m\u001b[39m\"\u001b[39;49m: \u001b[39m\"\u001b[39;49m\u001b[39mwell\u001b[39;49m\u001b[39m\"\u001b[39;49m})\u001b[39m.\u001b[39;49mfind_all(\u001b[39m\"\u001b[39m\u001b[39ma\u001b[39m\u001b[39m\"\u001b[39m)\n\u001b[1;32m    144\u001b[0m \u001b[39mfor\u001b[39;00m a_href \u001b[39min\u001b[39;00m a_hrefs:\n\u001b[1;32m    145\u001b[0m     keyword_list\u001b[39m.\u001b[39mappend(a_href\u001b[39m.\u001b[39mtext\u001b[39m.\u001b[39mlower())\n",
      "\u001b[0;31mAttributeError\u001b[0m: 'NoneType' object has no attribute 'find_all'"
     ]
    }
   ],
   "source": [
    "word1 = 'cat'\n",
    "test = Accidents()._get_keywords(word1[0])\n",
    "# print(test)"
   ]
  },
  {
   "cell_type": "code",
   "execution_count": 1,
   "id": "6259294e",
   "metadata": {},
   "outputs": [],
   "source": [
    "# https://www.osha.gov/pls/imis/AccidentSearch.search\n",
    "# ?p_logger=1\n",
    "# &acc_description=boat+Employee\n",
    "# &acc_Abstract=boat+Employee\n",
    "# &acc_keyword=water+drown+boat\n",
    "# &sic=\n",
    "# &naics=\n",
    "# &Office=All\n",
    "# &officetype=All\n",
    "# &endmonth=06\n",
    "# &endday=18\n",
    "# &endyear=2002\n",
    "# &startmonth=06\n",
    "# &startday=18\n",
    "# &startyear=2023\n",
    "# &InspNr="
   ]
  },
  {
   "cell_type": "code",
   "execution_count": 2,
   "id": "e276b453",
   "metadata": {
    "scrolled": true
   },
   "outputs": [
    {
     "ename": "AttributeError",
     "evalue": "'FCIS' object has no attribute '_extract_accidents_search_results'",
     "output_type": "error",
     "traceback": [
      "\u001b[0;31m---------------------------------------------------------------------------\u001b[0m",
      "\u001b[0;31mAttributeError\u001b[0m                            Traceback (most recent call last)",
      "Input \u001b[0;32mIn [2]\u001b[0m, in \u001b[0;36m<cell line: 12>\u001b[0;34m()\u001b[0m\n\u001b[1;32m      7\u001b[0m \u001b[38;5;66;03m# test\u001b[39;00m\n\u001b[1;32m      8\u001b[0m \u001b[38;5;66;03m# print(client._get_validated_keywords(keys1))\u001b[39;00m\n\u001b[1;32m      9\u001b[0m \u001b[38;5;66;03m# print(client._load_accidents_search_page())\u001b[39;00m\n\u001b[1;32m     11\u001b[0m page \u001b[38;5;241m=\u001b[39m client\u001b[38;5;241m.\u001b[39m_load_accidents_search_page()\n\u001b[0;32m---> 12\u001b[0m \u001b[43mclient\u001b[49m\u001b[38;5;241;43m.\u001b[39;49m\u001b[43m_extract_accidents_search_results\u001b[49m(page)\n",
      "\u001b[0;31mAttributeError\u001b[0m: 'FCIS' object has no attribute '_extract_accidents_search_results'"
     ]
    }
   ],
   "source": [
    "# Accidents Examples\n",
    "import fcis\n",
    "desc1= [\"boat\", \"Employee\"]\n",
    "abs1=  [\"boat\", \"Employee\"]\n",
    "keys1 = [\"water\", \"drown\", \"boat\"]\n",
    "client = fcis.FCIS(descriptions=desc1, abstracts=abs1, keywords=keys1)\n",
    "# test\n",
    "# print(client._get_validated_keywords(keys1))\n",
    "# print(client._load_accidents_search_page())\n",
    "\n",
    "page = client._load_accidents_search_page()\n",
    "client._scrape_accidents_search_results(page)\n"
   ]
  },
  {
   "cell_type": "code",
   "execution_count": 1,
   "id": "faa609df",
   "metadata": {
    "scrolled": false
   },
   "outputs": [
    {
     "name": "stdout",
     "output_type": "stream",
     "text": [
      "https://www.osha.gov/pls/imis/AccidentSearch.search?acc_keyword=\"Coal%20Tar%20Light%20Oil\"&keyword_list=on\n"
     ]
    },
    {
     "data": {
      "text/plain": [
       "[{'accident_id': '570341',\n",
       "  'summary_url': 'https://www.osha.gov/pls/imis/accidentsearch.accident_detail?id=570341',\n",
       "  'summary_nr': '000570341',\n",
       "  'event_date': '08/15/1984',\n",
       "  'report_id': '0522300',\n",
       "  'fatality': None,\n",
       "  'sic_url': 'https://www.osha.gov/sic-manual/4741',\n",
       "  'sic_num': '4741',\n",
       "  'event_description': 'Explosion While Cleaning Tank Car Containing Flammable Waste',\n",
       "  'fatility': 'X'}]"
      ]
     },
     "execution_count": 1,
     "metadata": {},
     "output_type": "execute_result"
    }
   ],
   "source": [
    "# Accidents Examples\n",
    "import fcis\n",
    "import pprint\n",
    "desc1= []\n",
    "keys1 = [\"Coal Tar Light Oil\"]\n",
    "client = fcis.FCIS(descriptions=desc1, keywords=keys1)\n",
    "page = client._load_accidents_search_page()\n",
    "client._scrape_accidents_search_results(page)"
   ]
  },
  {
   "cell_type": "code",
   "execution_count": null,
   "id": "0c4a9e85",
   "metadata": {},
   "outputs": [],
   "source": []
  },
  {
   "cell_type": "code",
   "execution_count": null,
   "id": "c979be4d",
   "metadata": {},
   "outputs": [],
   "source": [
    "# https://www.osha.gov/pls/imis/accidentsearch.html\n",
    "# ?p_message=2\n",
    "# &acc_description=TRUCK%20stop%20car\n",
    "# &acc_abstract=\n",
    "# &acc_keyword=\n",
    "# &sic=\n",
    "# &naics=\n",
    "# &officetype=All\n",
    "# &office=All\n",
    "# &startmonth=06\n",
    "# &startday=18\n",
    "# &startyear=2023\n",
    "# &endmonth=06\n",
    "# &endday=18\n",
    "# &endyear=2002\n",
    "# &inspnr="
   ]
  },
  {
   "cell_type": "code",
   "execution_count": null,
   "id": "58245c29",
   "metadata": {},
   "outputs": [],
   "source": [
    "# https://www.osha.gov/pls/imis/AccidentSearch.search\n",
    "# ?p_logger=1\n",
    "# &acc_description=tank+explosion+gas\n",
    "# &acc_Abstract=\n",
    "# &acc_keyword=gas+explosion\n",
    "# &sic=\n",
    "# &naics=\n",
    "# &Office=All\n",
    "# &officetype=All\n",
    "# &endmonth=06\n",
    "# &endday=18\n",
    "# &endyear=2002\n",
    "# &startmonth=06\n",
    "# &startday=18\n",
    "# &startyear=2023\n",
    "# &InspNr="
   ]
  }
 ],
 "metadata": {
  "kernelspec": {
   "display_name": "venv",
   "language": "python",
   "name": "venv"
  },
  "language_info": {
   "codemirror_mode": {
    "name": "ipython",
    "version": 3
   },
   "file_extension": ".py",
   "mimetype": "text/x-python",
   "name": "python",
   "nbconvert_exporter": "python",
   "pygments_lexer": "ipython3",
   "version": "3.9.13"
  },
  "vscode": {
   "interpreter": {
    "hash": "916dbcbb3f70747c44a77c7bcd40155683ae19c65e1c03b4aa3499c5328201f1"
   }
  }
 },
 "nbformat": 4,
 "nbformat_minor": 5
}
