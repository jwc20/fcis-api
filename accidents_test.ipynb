{
 "cells": [
  {
   "cell_type": "code",
   "execution_count": 13,
   "id": "7dfcc3aa",
   "metadata": {},
   "outputs": [],
   "source": [
    "from fcis.core import * \n",
    "from fcis.accidents import Accidents"
   ]
  },
  {
   "cell_type": "code",
   "execution_count": 14,
   "id": "543fac32",
   "metadata": {},
   "outputs": [],
   "source": [
    "word1 = 'cat'\n",
    "test = Accidents()._get_keywords(word1[0])\n",
    "# print(test)"
   ]
  },
  {
   "cell_type": "code",
   "execution_count": 1,
   "id": "6259294e",
   "metadata": {},
   "outputs": [],
   "source": [
    "# https://www.osha.gov/pls/imis/AccidentSearch.search\n",
    "# ?p_logger=1\n",
    "# &acc_description=boat+Employee\n",
    "# &acc_Abstract=boat+Employee\n",
    "# &acc_keyword=water+drown+boat\n",
    "# &sic=\n",
    "# &naics=\n",
    "# &Office=All\n",
    "# &officetype=All\n",
    "# &endmonth=06\n",
    "# &endday=18\n",
    "# &endyear=2002\n",
    "# &startmonth=06\n",
    "# &startday=18\n",
    "# &startyear=2023\n",
    "# &InspNr="
   ]
  },
  {
   "cell_type": "code",
   "execution_count": 1,
   "id": "e276b453",
   "metadata": {
    "scrolled": true
   },
   "outputs": [
    {
     "data": {
      "text/plain": [
       "[{'accident_id': '118552.015',\n",
       "  'summary_url': 'accidentsearch.accident_detail?id=118552.015',\n",
       "  'summary_nr': '118552.01',\n",
       "  'event_date': '07/31/2019',\n",
       "  'report_id': '0418400',\n",
       "  'fatility': 'X',\n",
       "  'sic_url': 'sic_manual.display?id=&tab=description',\n",
       "  'sic_num': '',\n",
       "  'event_description': 'Employee Drowns After Jon Boat Capsizes'},\n",
       " {'accident_id': '118552.015',\n",
       "  'summary_url': 'accidentsearch.accident_detail?id=118552.015',\n",
       "  'summary_nr': '118552.01',\n",
       "  'event_date': '07/31/2019',\n",
       "  'report_id': '0418400',\n",
       "  'fatility': 'X',\n",
       "  'sic_url': 'sic_manual.display?id=&tab=description',\n",
       "  'sic_num': '',\n",
       "  'event_description': 'Employee Drowns After Jon Boat Capsizes'}]"
      ]
     },
     "execution_count": 1,
     "metadata": {},
     "output_type": "execute_result"
    }
   ],
   "source": [
    "# Accidents Examples\n",
    "import fcis\n",
    "desc1= [\"boat\", \"Employee\"]\n",
    "abs1=  [\"boat\", \"Employee\"]\n",
    "keys1 = [\"water\", \"drown\", \"boat\"]\n",
    "client = fcis.FCIS(descriptions=desc1, abstracts=abs1, keywords=keys1)\n",
    "# test\n",
    "# print(client._get_validated_keywords(keys1))\n",
    "# print(client._load_accidents_search_page())\n",
    "\n",
    "\n",
    "\n",
    "page = client._load_accidents_search_page()\n",
    "client._extract_accidents_search_results(page)\n"
   ]
  },
  {
   "cell_type": "code",
   "execution_count": null,
   "id": "faa609df",
   "metadata": {},
   "outputs": [],
   "source": []
  },
  {
   "cell_type": "code",
   "execution_count": null,
   "id": "0c4a9e85",
   "metadata": {},
   "outputs": [],
   "source": []
  },
  {
   "cell_type": "code",
   "execution_count": null,
   "id": "c979be4d",
   "metadata": {},
   "outputs": [],
   "source": [
    "# https://www.osha.gov/pls/imis/accidentsearch.html\n",
    "# ?p_message=2\n",
    "# &acc_description=TRUCK%20stop%20car\n",
    "# &acc_abstract=\n",
    "# &acc_keyword=\n",
    "# &sic=\n",
    "# &naics=\n",
    "# &officetype=All\n",
    "# &office=All\n",
    "# &startmonth=06\n",
    "# &startday=18\n",
    "# &startyear=2023\n",
    "# &endmonth=06\n",
    "# &endday=18\n",
    "# &endyear=2002\n",
    "# &inspnr="
   ]
  },
  {
   "cell_type": "code",
   "execution_count": null,
   "id": "58245c29",
   "metadata": {},
   "outputs": [],
   "source": [
    "# https://www.osha.gov/pls/imis/AccidentSearch.search\n",
    "# ?p_logger=1\n",
    "# &acc_description=tank+explosion+gas\n",
    "# &acc_Abstract=\n",
    "# &acc_keyword=gas+explosion\n",
    "# &sic=\n",
    "# &naics=\n",
    "# &Office=All\n",
    "# &officetype=All\n",
    "# &endmonth=06\n",
    "# &endday=18\n",
    "# &endyear=2002\n",
    "# &startmonth=06\n",
    "# &startday=18\n",
    "# &startyear=2023\n",
    "# &InspNr="
   ]
  }
 ],
 "metadata": {
  "kernelspec": {
   "display_name": "venv",
   "language": "python",
   "name": "venv"
  },
  "language_info": {
   "codemirror_mode": {
    "name": "ipython",
    "version": 3
   },
   "file_extension": ".py",
   "mimetype": "text/x-python",
   "name": "python",
   "nbconvert_exporter": "python",
   "pygments_lexer": "ipython3",
   "version": "3.9.13"
  }
 },
 "nbformat": 4,
 "nbformat_minor": 5
}
